{
  "nbformat": 4,
  "nbformat_minor": 0,
  "metadata": {
    "colab": {
      "provenance": []
    },
    "kernelspec": {
      "name": "python3",
      "display_name": "Python 3"
    },
    "language_info": {
      "name": "python"
    }
  },
  "cells": [
    {
      "cell_type": "markdown",
      "source": [
        "# Trial"
      ],
      "metadata": {
        "id": "mBrUJBDlnF5A"
      }
    },
    {
      "cell_type": "code",
      "source": [
        "!pip install torch torchvision torchaudio"
      ],
      "metadata": {
        "colab": {
          "base_uri": "https://localhost:8080/"
        },
        "id": "DfW0EekSnG3J",
        "outputId": "98250da5-a896-4025-a352-8b17f459106c"
      },
      "execution_count": null,
      "outputs": [
        {
          "output_type": "stream",
          "name": "stdout",
          "text": [
            "Requirement already satisfied: torch in /usr/local/lib/python3.10/dist-packages (2.5.1+cu121)\n",
            "Requirement already satisfied: torchvision in /usr/local/lib/python3.10/dist-packages (0.20.1+cu121)\n",
            "Requirement already satisfied: torchaudio in /usr/local/lib/python3.10/dist-packages (2.5.1+cu121)\n",
            "Requirement already satisfied: filelock in /usr/local/lib/python3.10/dist-packages (from torch) (3.16.1)\n",
            "Requirement already satisfied: typing-extensions>=4.8.0 in /usr/local/lib/python3.10/dist-packages (from torch) (4.12.2)\n",
            "Requirement already satisfied: networkx in /usr/local/lib/python3.10/dist-packages (from torch) (3.4.2)\n",
            "Requirement already satisfied: jinja2 in /usr/local/lib/python3.10/dist-packages (from torch) (3.1.4)\n",
            "Requirement already satisfied: fsspec in /usr/local/lib/python3.10/dist-packages (from torch) (2024.10.0)\n",
            "Requirement already satisfied: sympy==1.13.1 in /usr/local/lib/python3.10/dist-packages (from torch) (1.13.1)\n",
            "Requirement already satisfied: mpmath<1.4,>=1.1.0 in /usr/local/lib/python3.10/dist-packages (from sympy==1.13.1->torch) (1.3.0)\n",
            "Requirement already satisfied: numpy in /usr/local/lib/python3.10/dist-packages (from torchvision) (1.26.4)\n",
            "Requirement already satisfied: pillow!=8.3.*,>=5.3.0 in /usr/local/lib/python3.10/dist-packages (from torchvision) (11.0.0)\n",
            "Requirement already satisfied: MarkupSafe>=2.0 in /usr/local/lib/python3.10/dist-packages (from jinja2->torch) (3.0.2)\n"
          ]
        }
      ]
    },
    {
      "cell_type": "code",
      "source": [
        "import torch\n",
        "import torch.nn as nn\n",
        "import torch.optim as optim\n",
        "from torch.distributions import Categorical\n",
        "import pandas as pd\n",
        "import numpy as np\n",
        "from google.colab import drive"
      ],
      "metadata": {
        "id": "h53B4OA2nLMg"
      },
      "execution_count": null,
      "outputs": []
    },
    {
      "cell_type": "code",
      "source": [
        "drive.mount('/content/drive')"
      ],
      "metadata": {
        "colab": {
          "base_uri": "https://localhost:8080/"
        },
        "id": "vpptQhnanvf0",
        "outputId": "eef922ee-90fe-4c27-e74b-4d561ebd2203"
      },
      "execution_count": null,
      "outputs": [
        {
          "output_type": "stream",
          "name": "stdout",
          "text": [
            "Mounted at /content/drive\n"
          ]
        }
      ]
    },
    {
      "cell_type": "code",
      "source": [
        "#Define the paths to your CSV files in Google Drive (UPDATE THESE PATHS)\n",
        "task_data_path = '/content/drive/MyDrive/Skripsi/Resources/task_test.csv'  # Update with your actual path\n",
        "employee_data_path = '/content/drive/MyDrive/Skripsi/Resources/employee_test.csv'  # Update with your actual path\n",
        "\n",
        "# Load the dataset\n",
        "task_skills = df_tasks = pd.read_csv(task_data_path)\n",
        "employee_skills = df_employees = pd.read_csv(employee_data_path)\n",
        "\n",
        "# Extract relevant data\n",
        "task_skills = df_tasks[['Mathematics.Linear Algebra', 'Mathematics.Differential Equations', 'Mathematics.Optimization Technique']].values\n",
        "employee_skills = df_employees[['Mathematics.Linear Algebra', 'Mathematics.Differential Equations', 'Mathematics.Optimization Technique']].values\n",
        "story_points = df_tasks['story_points'].values"
      ],
      "metadata": {
        "id": "nZLivivfntpO"
      },
      "execution_count": null,
      "outputs": []
    },
    {
      "cell_type": "code",
      "source": [
        "# Hyperparameters\n",
        "alpha = 0.5\n",
        "w1 = 0.7  # Weight for skill matching\n",
        "w2 = 0.3  # Weight for workload balancing\n",
        "learning_rate = 0.001\n",
        "gamma = 0.99  # Discount factor\n",
        "epochs = 1000\n",
        "max_story_points = 20\n",
        "\n",
        "# PPO specific hyperparameters\n",
        "clip_epsilon = 0.2\n",
        "ppo_epochs = 4\n",
        "batch_size = 32"
      ],
      "metadata": {
        "id": "br0UbPaPnTBM"
      },
      "execution_count": null,
      "outputs": []
    },
    {
      "cell_type": "code",
      "source": [
        "# Define the policy network\n",
        "class PolicyNetwork(nn.Module):\n",
        "    def __init__(self, input_size, output_size):\n",
        "        super(PolicyNetwork, self).__init__()\n",
        "        self.fc1 = nn.Linear(input_size, 128)\n",
        "        self.fc2 = nn.Linear(128, output_size)\n",
        "\n",
        "    def forward(self, x):\n",
        "        x = torch.relu(self.fc1(x))\n",
        "        x = torch.softmax(self.fc2(x), dim=-1)\n",
        "        return x\n",
        "\n",
        "# Calculate weighted Euclidean distance\n",
        "def weighted_euclidean_distance(employee_skills, task_skills, alpha=0.5):\n",
        "    # Calculate the distance for a single employee-task pair\n",
        "    weights = 1 / (1 + alpha * np.maximum(0, (employee_skills - task_skills)))\n",
        "    distance = np.sqrt(np.sum(weights * (employee_skills - task_skills)**2))\n",
        "    return distance\n",
        "\n",
        "# Calculate reward\n",
        "def calculate_reward(assignments, employee_workload, employee_skills, task_skills, story_points):\n",
        "    total_weighted_distance = 0\n",
        "    for task_idx, employee_idx in enumerate(assignments):\n",
        "        if employee_idx is not None:\n",
        "            distance = weighted_euclidean_distance(\n",
        "                employee_skills[employee_idx], task_skills[task_idx], alpha\n",
        "            )\n",
        "            total_weighted_distance += distance\n",
        "\n",
        "    std_dev_workload = np.std(employee_workload)\n",
        "    reward = -(w1 * total_weighted_distance + w2 * std_dev_workload)\n",
        "\n",
        "    # Ensure reward is a scalar\n",
        "    return reward\n",
        "\n",
        "\n",
        "# PPO Agent\n",
        "class PPOAgent:\n",
        "    def __init__(self, input_size, output_size):\n",
        "        self.policy_network = PolicyNetwork(input_size, output_size)\n",
        "        self.optimizer = optim.Adam(self.policy_network.parameters(), lr=learning_rate)\n",
        "\n",
        "        self.old_policy_network = PolicyNetwork(input_size, output_size)\n",
        "        self.old_policy_network.load_state_dict(self.policy_network.state_dict())\n",
        "\n",
        "    def select_action(self, state):\n",
        "        state = torch.from_numpy(state).float()\n",
        "        probs = self.policy_network(state)\n",
        "        m = Categorical(probs)\n",
        "        action = m.sample()\n",
        "        return action.item(), m.log_prob(action)\n",
        "\n",
        "    def update_policy(self, states, actions, log_probs, rewards, masks):\n",
        "        for _ in range(ppo_epochs):\n",
        "            for i in range(0, len(states), batch_size):\n",
        "                batch_states = torch.from_numpy(np.array(states[i:i+batch_size])).float()\n",
        "                batch_actions = torch.tensor(actions[i:i+batch_size])\n",
        "                batch_log_probs = torch.tensor(log_probs[i:i+batch_size])\n",
        "                batch_rewards = torch.tensor(rewards[i:i+batch_size])\n",
        "                batch_masks = torch.tensor(masks[i:i+batch_size])\n",
        "\n",
        "                # Calculate advantage\n",
        "                returns = []\n",
        "                R = 0\n",
        "                for r, mask in zip(reversed(batch_rewards), reversed(batch_masks)):\n",
        "                    R = r + gamma * R * mask\n",
        "                    returns.insert(0, R)\n",
        "                returns = torch.tensor(returns)\n",
        "                # Normalize returns (optional)\n",
        "                returns = (returns - returns.mean()) / (returns.std() + 1e-8)\n",
        "\n",
        "                # Calculate new log probabilities\n",
        "                new_probs = self.policy_network(batch_states)\n",
        "                m = Categorical(new_probs)\n",
        "                new_log_probs = m.log_prob(batch_actions)\n",
        "\n",
        "                # Calculate the ratio\n",
        "                ratio = torch.exp(new_log_probs - batch_log_probs)\n",
        "\n",
        "                # Calculate surrogate loss\n",
        "                surr1 = ratio * returns\n",
        "                surr2 = torch.clamp(ratio, 1 - clip_epsilon, 1 + clip_epsilon) * returns\n",
        "                loss = -torch.min(surr1, surr2).mean()\n",
        "\n",
        "                # Update the policy\n",
        "                self.optimizer.zero_grad()\n",
        "                loss.backward()\n",
        "                self.optimizer.step()\n",
        "\n",
        "        # Update old policy\n",
        "        self.old_policy_network.load_state_dict(self.policy_network.state_dict())\n",
        "\n",
        "# Environment\n",
        "class TaskAssignmentEnv:\n",
        "    def __init__(self, employee_skills, task_skills, story_points, max_story_points):\n",
        "        self.employee_skills = employee_skills\n",
        "        self.task_skills = task_skills\n",
        "        self.story_points = story_points\n",
        "        self.max_story_points = max_story_points\n",
        "        self.reset()\n",
        "\n",
        "    def reset(self):\n",
        "        self.assignments = [None] * len(self.task_skills)\n",
        "        self.employee_workload = np.array([0] * len(self.employee_skills))\n",
        "        return self.get_state()\n",
        "\n",
        "    def get_state(self):\n",
        "        assignment_matrix = np.zeros((len(self.task_skills), len(self.employee_skills)))\n",
        "        for i, a in enumerate(self.assignments):\n",
        "            if a is not None:\n",
        "                assignment_matrix[i, a] = 1\n",
        "        return np.concatenate((\n",
        "            assignment_matrix.flatten(),\n",
        "            self.employee_workload / self.max_story_points,\n",
        "            self.employee_skills.flatten(),\n",
        "            self.task_skills.flatten()\n",
        "        ))\n",
        "\n",
        "    def step(self, action):\n",
        "        task_idx = action // len(self.employee_skills)  # Determine task from action\n",
        "        employee_idx = action % len(self.employee_skills)  # Determine employee from action\n",
        "\n",
        "        # Check if action is valid\n",
        "        if (\n",
        "            task_idx < len(self.task_skills)\n",
        "            and self.assignments[task_idx] is None\n",
        "            and self.employee_workload[employee_idx] + self.story_points[task_idx] <= self.max_story_points\n",
        "        ):\n",
        "            self.assignments[task_idx] = employee_idx\n",
        "            self.employee_workload[employee_idx] += self.story_points[task_idx]\n",
        "            reward = calculate_reward(\n",
        "                self.assignments, self.employee_workload, self.employee_skills, self.task_skills, self.story_points\n",
        "            )\n",
        "            done = all(a is not None for a in self.assignments)  # Done if all tasks are assigned\n",
        "        else:\n",
        "            reward = -10  # Penalty for invalid action\n",
        "            done = False\n",
        "\n",
        "        return self.get_state(), reward, done, {}\n"
      ],
      "metadata": {
        "id": "KbMQOgg2qa1P"
      },
      "execution_count": null,
      "outputs": []
    },
    {
      "cell_type": "code",
      "source": [
        "# Initialize environment and agent\n",
        "env = TaskAssignmentEnv(employee_skills, task_skills, story_points, max_story_points)\n",
        "state_size = len(env.get_state())\n",
        "action_size = len(task_skills) * len(employee_skills)  # Number of tasks * number of employees\n",
        "agent = PPOAgent(state_size, action_size)\n",
        "\n",
        "# Training loop\n",
        "for epoch in range(epochs):\n",
        "    states = []\n",
        "    actions = []\n",
        "    log_probs = []\n",
        "    rewards = []\n",
        "    masks = []\n",
        "\n",
        "    state = env.reset()\n",
        "    done = False\n",
        "    while not done:\n",
        "        action, log_prob = agent.select_action(state)\n",
        "        next_state, reward, done, _ = env.step(action)\n",
        "\n",
        "        states.append(state)\n",
        "        actions.append(action)\n",
        "\n",
        "        log_probs.append(log_prob)\n",
        "        rewards.append(reward)\n",
        "\n",
        "        masks.append(1 - done) # Mask is 1 if not done, 0 if done\n",
        "\n",
        "        state = next_state\n",
        "\n",
        "    agent.update_policy(states, actions, log_probs, rewards, masks)\n",
        "\n",
        "    if epoch % 100 == 0:\n",
        "        print(f\"Epoch: {epoch}, Reward: {np.sum(rewards)}\")\n",
        "\n",
        "# Test the trained agent\n",
        "state = env.reset()\n",
        "done = False\n",
        "while not done:\n",
        "    action, _ = agent.select_action(state)\n",
        "    state, reward, done, _ = env.step(action)\n",
        "\n",
        "\n",
        "print(\"Final Assignments:\", env.assignments)\n",
        "print(\"Employee Workload:\", env.employee_workload)"
      ],
      "metadata": {
        "colab": {
          "base_uri": "https://localhost:8080/",
          "height": 1000
        },
        "id": "58HXYMmZqguK",
        "outputId": "192c5392-8ef7-4c3e-d6fb-53e5d095370c"
      },
      "execution_count": null,
      "outputs": [
        {
          "output_type": "stream",
          "name": "stdout",
          "text": [
            "Epoch: 0, Reward: -51.685965219849706\n",
            "Epoch: 100, Reward: -131.12972685446164\n",
            "Epoch: 200, Reward: -57.5201638840953\n",
            "Epoch: 300, Reward: -55.76798828723369\n"
          ]
        },
        {
          "output_type": "stream",
          "name": "stderr",
          "text": [
            "<ipython-input-16-177c06dfd578>:70: UserWarning: std(): degrees of freedom is <= 0. Correction should be strictly less than the reduction factor (input numel divided by output numel). (Triggered internally at ../aten/src/ATen/native/ReduceOps.cpp:1823.)\n",
            "  returns = (returns - returns.mean()) / (returns.std() + 1e-8)\n"
          ]
        },
        {
          "output_type": "error",
          "ename": "ValueError",
          "evalue": "Expected parameter probs (Tensor of shape (32, 10)) of distribution Categorical(probs: torch.Size([32, 10])) to satisfy the constraint Simplex(), but found invalid values:\ntensor([[nan, nan, nan, nan, nan, nan, nan, nan, nan, nan],\n        [nan, nan, nan, nan, nan, nan, nan, nan, nan, nan],\n        [nan, nan, nan, nan, nan, nan, nan, nan, nan, nan],\n        [nan, nan, nan, nan, nan, nan, nan, nan, nan, nan],\n        [nan, nan, nan, nan, nan, nan, nan, nan, nan, nan],\n        [nan, nan, nan, nan, nan, nan, nan, nan, nan, nan],\n        [nan, nan, nan, nan, nan, nan, nan, nan, nan, nan],\n        [nan, nan, nan, nan, nan, nan, nan, nan, nan, nan],\n        [nan, nan, nan, nan, nan, nan, nan, nan, nan, nan],\n        [nan, nan, nan, nan, nan, nan, nan, nan, nan, nan],\n        [nan, nan, nan, nan, nan, nan, nan, nan, nan, nan],\n        [nan, nan, nan, nan, nan, nan, nan, nan, nan, nan],\n        [nan, nan, nan, nan, nan, nan, nan, nan, nan, nan],\n        [nan, nan, nan, nan, nan, nan, nan, nan, nan, nan],\n        [nan, nan, nan, nan, nan, nan, nan, nan, nan, nan],\n        [nan, nan, nan, nan, nan, nan, nan, nan, nan, nan],\n        [nan, nan, nan, nan, nan, nan, nan, nan, nan, nan],\n        [nan, nan, nan, nan, nan, nan, nan, nan, nan, nan],\n        [nan, nan, nan, nan, nan, nan, nan, nan, nan, nan],\n        [nan, nan, nan, nan, nan, nan, nan, nan, nan, nan],\n        [nan, nan, nan, nan, nan, nan, nan, nan, nan, nan],\n        [nan, nan, nan, nan, nan, nan, nan, nan, nan, nan],\n        [nan, nan, nan, nan, nan, nan, nan, nan, nan, nan],\n        [nan, nan, nan, nan, nan, nan, nan, nan, nan, nan],\n        [nan, nan, nan, nan, nan, nan, nan, nan, nan, nan],\n        [nan, nan, nan, nan, nan, nan, nan, nan, nan, nan],\n        [nan, nan, nan, nan, nan, nan, nan, nan, nan, nan],\n        [nan, nan, nan, nan, nan, nan, nan, nan, nan, nan],\n        [nan, nan, nan, nan, nan, nan, nan, nan, nan, nan],\n        [nan, nan, nan, nan, nan, nan, nan, nan, nan, nan],\n        [nan, nan, nan, nan, nan, nan, nan, nan, nan, nan],\n        [nan, nan, nan, nan, nan, nan, nan, nan, nan, nan]],\n       grad_fn=<DivBackward0>)",
          "traceback": [
            "\u001b[0;31m---------------------------------------------------------------------------\u001b[0m",
            "\u001b[0;31mValueError\u001b[0m                                Traceback (most recent call last)",
            "\u001b[0;32m<ipython-input-17-d264ba09750b>\u001b[0m in \u001b[0;36m<cell line: 8>\u001b[0;34m()\u001b[0m\n\u001b[1;32m     29\u001b[0m         \u001b[0mstate\u001b[0m \u001b[0;34m=\u001b[0m \u001b[0mnext_state\u001b[0m\u001b[0;34m\u001b[0m\u001b[0;34m\u001b[0m\u001b[0m\n\u001b[1;32m     30\u001b[0m \u001b[0;34m\u001b[0m\u001b[0m\n\u001b[0;32m---> 31\u001b[0;31m     \u001b[0magent\u001b[0m\u001b[0;34m.\u001b[0m\u001b[0mupdate_policy\u001b[0m\u001b[0;34m(\u001b[0m\u001b[0mstates\u001b[0m\u001b[0;34m,\u001b[0m \u001b[0mactions\u001b[0m\u001b[0;34m,\u001b[0m \u001b[0mlog_probs\u001b[0m\u001b[0;34m,\u001b[0m \u001b[0mrewards\u001b[0m\u001b[0;34m,\u001b[0m \u001b[0mmasks\u001b[0m\u001b[0;34m)\u001b[0m\u001b[0;34m\u001b[0m\u001b[0;34m\u001b[0m\u001b[0m\n\u001b[0m\u001b[1;32m     32\u001b[0m \u001b[0;34m\u001b[0m\u001b[0m\n\u001b[1;32m     33\u001b[0m     \u001b[0;32mif\u001b[0m \u001b[0mepoch\u001b[0m \u001b[0;34m%\u001b[0m \u001b[0;36m100\u001b[0m \u001b[0;34m==\u001b[0m \u001b[0;36m0\u001b[0m\u001b[0;34m:\u001b[0m\u001b[0;34m\u001b[0m\u001b[0;34m\u001b[0m\u001b[0m\n",
            "\u001b[0;32m<ipython-input-16-177c06dfd578>\u001b[0m in \u001b[0;36mupdate_policy\u001b[0;34m(self, states, actions, log_probs, rewards, masks)\u001b[0m\n\u001b[1;32m     72\u001b[0m                 \u001b[0;31m# Calculate new log probabilities\u001b[0m\u001b[0;34m\u001b[0m\u001b[0;34m\u001b[0m\u001b[0m\n\u001b[1;32m     73\u001b[0m                 \u001b[0mnew_probs\u001b[0m \u001b[0;34m=\u001b[0m \u001b[0mself\u001b[0m\u001b[0;34m.\u001b[0m\u001b[0mpolicy_network\u001b[0m\u001b[0;34m(\u001b[0m\u001b[0mbatch_states\u001b[0m\u001b[0;34m)\u001b[0m\u001b[0;34m\u001b[0m\u001b[0;34m\u001b[0m\u001b[0m\n\u001b[0;32m---> 74\u001b[0;31m                 \u001b[0mm\u001b[0m \u001b[0;34m=\u001b[0m \u001b[0mCategorical\u001b[0m\u001b[0;34m(\u001b[0m\u001b[0mnew_probs\u001b[0m\u001b[0;34m)\u001b[0m\u001b[0;34m\u001b[0m\u001b[0;34m\u001b[0m\u001b[0m\n\u001b[0m\u001b[1;32m     75\u001b[0m                 \u001b[0mnew_log_probs\u001b[0m \u001b[0;34m=\u001b[0m \u001b[0mm\u001b[0m\u001b[0;34m.\u001b[0m\u001b[0mlog_prob\u001b[0m\u001b[0;34m(\u001b[0m\u001b[0mbatch_actions\u001b[0m\u001b[0;34m)\u001b[0m\u001b[0;34m\u001b[0m\u001b[0;34m\u001b[0m\u001b[0m\n\u001b[1;32m     76\u001b[0m \u001b[0;34m\u001b[0m\u001b[0m\n",
            "\u001b[0;32m/usr/local/lib/python3.10/dist-packages/torch/distributions/categorical.py\u001b[0m in \u001b[0;36m__init__\u001b[0;34m(self, probs, logits, validate_args)\u001b[0m\n\u001b[1;32m     70\u001b[0m             \u001b[0mself\u001b[0m\u001b[0;34m.\u001b[0m\u001b[0m_param\u001b[0m\u001b[0;34m.\u001b[0m\u001b[0msize\u001b[0m\u001b[0;34m(\u001b[0m\u001b[0;34m)\u001b[0m\u001b[0;34m[\u001b[0m\u001b[0;34m:\u001b[0m\u001b[0;34m-\u001b[0m\u001b[0;36m1\u001b[0m\u001b[0;34m]\u001b[0m \u001b[0;32mif\u001b[0m \u001b[0mself\u001b[0m\u001b[0;34m.\u001b[0m\u001b[0m_param\u001b[0m\u001b[0;34m.\u001b[0m\u001b[0mndimension\u001b[0m\u001b[0;34m(\u001b[0m\u001b[0;34m)\u001b[0m \u001b[0;34m>\u001b[0m \u001b[0;36m1\u001b[0m \u001b[0;32melse\u001b[0m \u001b[0mtorch\u001b[0m\u001b[0;34m.\u001b[0m\u001b[0mSize\u001b[0m\u001b[0;34m(\u001b[0m\u001b[0;34m)\u001b[0m\u001b[0;34m\u001b[0m\u001b[0;34m\u001b[0m\u001b[0m\n\u001b[1;32m     71\u001b[0m         )\n\u001b[0;32m---> 72\u001b[0;31m         \u001b[0msuper\u001b[0m\u001b[0;34m(\u001b[0m\u001b[0;34m)\u001b[0m\u001b[0;34m.\u001b[0m\u001b[0m__init__\u001b[0m\u001b[0;34m(\u001b[0m\u001b[0mbatch_shape\u001b[0m\u001b[0;34m,\u001b[0m \u001b[0mvalidate_args\u001b[0m\u001b[0;34m=\u001b[0m\u001b[0mvalidate_args\u001b[0m\u001b[0;34m)\u001b[0m\u001b[0;34m\u001b[0m\u001b[0;34m\u001b[0m\u001b[0m\n\u001b[0m\u001b[1;32m     73\u001b[0m \u001b[0;34m\u001b[0m\u001b[0m\n\u001b[1;32m     74\u001b[0m     \u001b[0;32mdef\u001b[0m \u001b[0mexpand\u001b[0m\u001b[0;34m(\u001b[0m\u001b[0mself\u001b[0m\u001b[0;34m,\u001b[0m \u001b[0mbatch_shape\u001b[0m\u001b[0;34m,\u001b[0m \u001b[0m_instance\u001b[0m\u001b[0;34m=\u001b[0m\u001b[0;32mNone\u001b[0m\u001b[0;34m)\u001b[0m\u001b[0;34m:\u001b[0m\u001b[0;34m\u001b[0m\u001b[0;34m\u001b[0m\u001b[0m\n",
            "\u001b[0;32m/usr/local/lib/python3.10/dist-packages/torch/distributions/distribution.py\u001b[0m in \u001b[0;36m__init__\u001b[0;34m(self, batch_shape, event_shape, validate_args)\u001b[0m\n\u001b[1;32m     69\u001b[0m                 \u001b[0mvalid\u001b[0m \u001b[0;34m=\u001b[0m \u001b[0mconstraint\u001b[0m\u001b[0;34m.\u001b[0m\u001b[0mcheck\u001b[0m\u001b[0;34m(\u001b[0m\u001b[0mvalue\u001b[0m\u001b[0;34m)\u001b[0m\u001b[0;34m\u001b[0m\u001b[0;34m\u001b[0m\u001b[0m\n\u001b[1;32m     70\u001b[0m                 \u001b[0;32mif\u001b[0m \u001b[0;32mnot\u001b[0m \u001b[0mvalid\u001b[0m\u001b[0;34m.\u001b[0m\u001b[0mall\u001b[0m\u001b[0;34m(\u001b[0m\u001b[0;34m)\u001b[0m\u001b[0;34m:\u001b[0m\u001b[0;34m\u001b[0m\u001b[0;34m\u001b[0m\u001b[0m\n\u001b[0;32m---> 71\u001b[0;31m                     raise ValueError(\n\u001b[0m\u001b[1;32m     72\u001b[0m                         \u001b[0;34mf\"Expected parameter {param} \"\u001b[0m\u001b[0;34m\u001b[0m\u001b[0;34m\u001b[0m\u001b[0m\n\u001b[1;32m     73\u001b[0m                         \u001b[0;34mf\"({type(value).__name__} of shape {tuple(value.shape)}) \"\u001b[0m\u001b[0;34m\u001b[0m\u001b[0;34m\u001b[0m\u001b[0m\n",
            "\u001b[0;31mValueError\u001b[0m: Expected parameter probs (Tensor of shape (32, 10)) of distribution Categorical(probs: torch.Size([32, 10])) to satisfy the constraint Simplex(), but found invalid values:\ntensor([[nan, nan, nan, nan, nan, nan, nan, nan, nan, nan],\n        [nan, nan, nan, nan, nan, nan, nan, nan, nan, nan],\n        [nan, nan, nan, nan, nan, nan, nan, nan, nan, nan],\n        [nan, nan, nan, nan, nan, nan, nan, nan, nan, nan],\n        [nan, nan, nan, nan, nan, nan, nan, nan, nan, nan],\n        [nan, nan, nan, nan, nan, nan, nan, nan, nan, nan],\n        [nan, nan, nan, nan, nan, nan, nan, nan, nan, nan],\n        [nan, nan, nan, nan, nan, nan, nan, nan, nan, nan],\n        [nan, nan, nan, nan, nan, nan, nan, nan, nan, nan],\n        [nan, nan, nan, nan, nan, nan, nan, nan, nan, nan],\n        [nan, nan, nan, nan, nan, nan, nan, nan, nan, nan],\n        [nan, nan, nan, nan, nan, nan, nan, nan, nan, nan],\n        [nan, nan, nan, nan, nan, nan, nan, nan, nan, nan],\n        [nan, nan, nan, nan, nan, nan, nan, nan, nan, nan],\n        [nan, nan, nan, nan, nan, nan, nan, nan, nan, nan],\n        [nan, nan, nan, nan, nan, nan, nan, nan, nan, nan],\n        [nan, nan, nan, nan, nan, nan, nan, nan, nan, nan],\n        [nan, nan, nan, nan, nan, nan, nan, nan, nan, nan],\n        [nan, nan, nan, nan, nan, nan, nan, nan, nan, nan],\n        [nan, nan, nan, nan, nan, nan, nan, nan, nan, nan],\n        [nan, nan, nan, nan, nan, nan, nan, nan, nan, nan],\n        [nan, nan, nan, nan, nan, nan, nan, nan, nan, nan],\n        [nan, nan, nan, nan, nan, nan, nan, nan, nan, nan],\n        [nan, nan, nan, nan, nan, nan, nan, nan, nan, nan],\n        [nan, nan, nan, nan, nan, nan, nan, nan, nan, nan],\n        [nan, nan, nan, nan, nan, nan, nan, nan, nan, nan],\n        [nan, nan, nan, nan, nan, nan, nan, nan, nan, nan],\n        [nan, nan, nan, nan, nan, nan, nan, nan, nan, nan],\n        [nan, nan, nan, nan, nan, nan, nan, nan, nan, nan],\n        [nan, nan, nan, nan, nan, nan, nan, nan, nan, nan],\n        [nan, nan, nan, nan, nan, nan, nan, nan, nan, nan],\n        [nan, nan, nan, nan, nan, nan, nan, nan, nan, nan]],\n       grad_fn=<DivBackward0>)"
          ]
        }
      ]
    }
  ]
}